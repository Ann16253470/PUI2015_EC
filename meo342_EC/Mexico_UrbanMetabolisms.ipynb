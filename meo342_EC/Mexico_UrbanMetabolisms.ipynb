{
 "cells": [
  {
   "cell_type": "code",
   "execution_count": 8,
   "metadata": {
    "collapsed": false
   },
   "outputs": [
    {
     "name": "stdout",
     "output_type": "stream",
     "text": [
      "Populating the interactive namespace from numpy and matplotlib\n"
     ]
    },
    {
     "name": "stderr",
     "output_type": "stream",
     "text": [
      "WARNING: pylab import has clobbered these variables: ['imread']\n",
      "`%matplotlib` prevents importing * from pylab and numpy\n"
     ]
    }
   ],
   "source": [
    "from __future__ import print_function\n",
    "__author__ = 'mo'\n",
    "import pylab as pl\n",
    "import numpy as np\n",
    "%pylab inline\n",
    "\n",
    "import matplotlib.pyplot as plt\n",
    "%matplotlib inline\n",
    "\n",
    "import pandas as pd\n",
    "import geopandas as gp\n",
    "import json\n",
    "\n",
    "import sklearn.cluster\n",
    "from sklearn import mixture\n",
    "from PIL import Image\n",
    "from scipy.misc import imread\n",
    "from scipy.cluster.vq import kmeans2"
   ]
  },
  {
   "cell_type": "code",
   "execution_count": 9,
   "metadata": {
    "collapsed": true
   },
   "outputs": [],
   "source": [
    "kelly_colors_hex = [\n",
    "    '#FFB300', # Vivid Yellow\n",
    "    '#803E75', # Strong Purple\n",
    "    '#FF6800', # Vivid Orange\n",
    "    '#A6BDD7', # Very Light Blue\n",
    "    '#C10020', # Vivid Red\n",
    "    '#CEA262', # Grayish Yellow\n",
    "    '#817066', # Medium Gray\n",
    "    '#007D34', # Vivid Green\n",
    "    '#F6768E', # Strong Purplish Pink\n",
    "    '#00538A', # Strong Blue\n",
    "    '#FF7A5C', # Strong Yellowish Pink\n",
    "    '#53377A', # Strong Violet\n",
    "    '#FF8E00', # Vivid Orange Yellow\n",
    "    '#B32851', # Strong Purplish Red\n",
    "    '#F4C800', # Vivid Greenish Yellow\n",
    "    '#7F180D', # Strong Reddish Brown\n",
    "    '#93AA00', # Vivid Yellowish Green\n",
    "    '#593315', # Deep Yellowish Brown\n",
    "    '#F13A13', # Vivid Reddish Orange\n",
    "    '#232C16', # Dark Olive Green\n",
    "    ]"
   ]
  },
  {
   "cell_type": "code",
   "execution_count": 10,
   "metadata": {
    "collapsed": false
   },
   "outputs": [
    {
     "name": "stdout",
     "output_type": "stream",
     "text": [
      "/Users/mariaortiz/PUI2015_mortiz/\n"
     ]
    }
   ],
   "source": [
    "import os\n",
    "print (os.environ['PUI2015'])\n",
    "#\"HOME\" in os.environ"
   ]
  },
  {
   "cell_type": "code",
   "execution_count": 150,
   "metadata": {
    "collapsed": false
   },
   "outputs": [
    {
     "data": {
      "text/plain": [
       "Index([u'ciudad', u'clave', u'estado',\n",
       "       u'Tasa homicidios Por cada cien mil habitantes',\n",
       "       u'Robo de mercancias: Pesos 2012 por cada millon de pesos de PIB',\n",
       "       u'safetyperception', u'mtCO2e',\n",
       "       u'Proporcion del area del municipio con acuiferos sobreexplotados',\n",
       "       u'waterpc', u'cap tratamiento de agua l/s por cada 1,000 hab',\n",
       "       u'indice, \\rValores de 0-3, en funcion a si mide, publica datos y tiene un Proaire',\n",
       "       u'goodtrash', u'Aprovecha biogas Si=1, No=0', u'fuelpergdp',\n",
       "       u'rend academico �% de alumnos de educacion basica y media superior en niveles Bueno y Excelente en Matematicas de prueba ENLACE',\n",
       "       u'accessgoodschools', u'mortalidad diabetes Por cada 10 mil habitantes',\n",
       "       u'mort infantil Decesos de menores de un a�o por cada mil nacidos vivos',\n",
       "       u'Por cada 10 mil habitantes', u'acceso inst salud % de la PEA',\n",
       "       u'crec accesso salud Tasa de cambio (%) entre 2008 y 2012',\n",
       "       u' crec pob calificada Tasa de cambio (%) entre 2008 y 2012',\n",
       "       u'viviendas drenaje Por cada 100 viviendas habitadas',\n",
       "       u'Viv piso tierra Por cada 100 viviendas habitadas',\n",
       "       u'Vic deshabitads Por cada 100 viviendas',\n",
       "       u'personas dejaboj linea de bienestar % PEA',\n",
       "       u'Desigualdad en ciudades Coeficiente de Gini salarial (menos es mejor)',\n",
       "       u'Mujeres en la PEA como % del total de mujeres en edad laboral',\n",
       "       u'Por cada 100 mil habitantes', u'inf', u'percentemployedformal',\n",
       "       u'crecimiento empleos sector formal Tasa de cambio (%) entre 2008 y 2012',\n",
       "       u'citygrowth', u'popdensity', u'minwage',\n",
       "       u'Productividad media del trabajo Miles de pesos de 2012 por trabajador (descontando el efecto del sector minero)',\n",
       "       u'pob ocupada sin ingresos % poblacion ocupada',\n",
       "       u'crecimiento pob ocupada sin ingresos Tasa de cambio (%) entre 2008 y 2012',\n",
       "       u'sectores con crecimiento % PIB en sectores que crecen a una tasa de crecimiento superior al promedio',\n",
       "       u'stategdpchange', u'wagechange', u'% de la PEA',\n",
       "       u'viviendas con telefono moviles % de viviendas habitadas',\n",
       "       u'viviendas con compu % de viviendas habitadas',\n",
       "       u'Twits por hora por cada mil habitantes',\n",
       "       u'muertes rel con transporte Por cada 100 mil habitantes',\n",
       "       u'sitema transporte masivo Dummy\\r(0=no hay, 1=aprobado proy ejecutivo (BANOBRAS), 2=en construccion (o <250 mil hab), 3=listo)\\r',\n",
       "       u'uso servicio fin Por adultos',\n",
       "       u'accesso servicio fin Por cada 10,000 adultos',\n",
       "       u'FDI Dolaes per capita (promedio 3 a�os)',\n",
       "       u'cd frontera o pueblo Dummy (0=ninguna, 1=puerto, 2=frontera)',\n",
       "       u'firmsper1000pea', u'population', u'gdpcity', u'gdppc'],\n",
       "      dtype='object')"
      ]
     },
     "execution_count": 150,
     "metadata": {},
     "output_type": "execute_result"
    }
   ],
   "source": [
    "#imco = pd.read_csv(os.getenv('$PUI2015')+'/ExtraCredit/imcodata2.csv')\n",
    "imco = pd.read_csv('/Users/mariaortiz/PUI2015_EC/meo342_EC/imcodata2.csv')\n",
    "imco.columns\n"
   ]
  },
  {
   "cell_type": "code",
   "execution_count": 12,
   "metadata": {
    "collapsed": false
   },
   "outputs": [],
   "source": [
    "#imco.describe()"
   ]
  },
  {
   "cell_type": "code",
   "execution_count": 13,
   "metadata": {
    "collapsed": false
   },
   "outputs": [],
   "source": [
    "#creating df for variables I want to look \n",
    "imcoenv = imco[['ciudad', 'mtCO2e', 'waterpc', 'goodtrash', 'fuelpergdp', 'citygrowth', 'popdensity', 'population']]"
   ]
  },
  {
   "cell_type": "code",
   "execution_count": 91,
   "metadata": {
    "collapsed": false
   },
   "outputs": [],
   "source": [
    "#making individual dfs\n",
    "inf = imco['inf']\n",
    "citygrowth = imco['citygrowth']\n",
    "popden = imco['popdensity']\n",
    "eleccons = imco['fuelpergdp']\n",
    "waterpc = imco['waterpc']\n",
    "pop = imco['population']\n",
    "cityindex = imco['ciudad']\n",
    "trash = imco['goodtrash']\n",
    "co2 = imco['mtCO2e']\n",
    "gdppc = imco['gdppc']\n",
    "\n",
    "#nomalizing CO2 emissions, dropping nans\n",
    "co2pcn = imco['mtCO2e']/imco['population']\n",
    "co2pc = co2pcn[(~np.isnan(co2pcn))]"
   ]
  },
  {
   "cell_type": "code",
   "execution_count": 87,
   "metadata": {
    "collapsed": false
   },
   "outputs": [],
   "source": [
    "#viewing cell for sanity checks\n"
   ]
  },
  {
   "cell_type": "code",
   "execution_count": 16,
   "metadata": {
    "collapsed": false
   },
   "outputs": [
    {
     "data": {
      "text/plain": [
       "20848057.69"
      ]
     },
     "execution_count": 16,
     "metadata": {},
     "output_type": "execute_result"
    }
   ],
   "source": [
    "pop.max()"
   ]
  },
  {
   "cell_type": "markdown",
   "metadata": {},
   "source": [
    "#Exploratory phase\n",
    "\n",
    "##Distributions to see what data looks like"
   ]
  },
  {
   "cell_type": "code",
   "execution_count": 30,
   "metadata": {
    "collapsed": false
   },
   "outputs": [
    {
     "data": {
      "text/plain": [
       "<matplotlib.axes._subplots.AxesSubplot at 0x111103b10>"
      ]
     },
     "execution_count": 30,
     "metadata": {},
     "output_type": "execute_result"
    },
    {
     "data": {
      "text/plain": [
       "<matplotlib.figure.Figure at 0x1122c55d0>"
      ]
     },
     "metadata": {},
     "output_type": "display_data"
    },
    {
     "data": {
      "image/png": "[encoded data removed]",
      "text/plain": [
       "<matplotlib.figure.Figure at 0x111c67b50>"
      ]
     },
     "metadata": {},
     "output_type": "display_data"
    }
   ],
   "source": [
    "fig = pl.figure(figsize=(10,10))\n",
    "bins = np.arange(1000, 1000000, 100000)\n",
    "inf.groupby(pd.cut(inf, bins)).agg([count_nonzero]).plot(kind='bar')"
   ]
  },
  {
   "cell_type": "code",
   "execution_count": 62,
   "metadata": {
    "collapsed": false
   },
   "outputs": [
    {
     "data": {
      "text/plain": [
       "<matplotlib.axes._subplots.AxesSubplot at 0x1130f25d0>"
      ]
     },
     "execution_count": 62,
     "metadata": {},
     "output_type": "execute_result"
    },
    {
     "data": {
      "text/plain": [
       "<matplotlib.figure.Figure at 0x1133a3450>"
      ]
     },
     "metadata": {},
     "output_type": "display_data"
    },
    {
     "data": {
      "image/png": "[encoded data removed]",
      "text/plain": [
       "<matplotlib.figure.Figure at 0x1130fcf50>"
      ]
     },
     "metadata": {},
     "output_type": "display_data"
    }
   ],
   "source": [
    "fig = pl.figure(figsize=(10,10))\n",
    "bins = np.arange(1000, 2500000, 100000)\n",
    "pop.groupby(pd.cut(pop, bins)).agg([count_nonzero]).plot(kind='bar')"
   ]
  },
  {
   "cell_type": "code",
   "execution_count": 61,
   "metadata": {
    "collapsed": false
   },
   "outputs": [
    {
     "data": {
      "text/plain": [
       "<matplotlib.axes._subplots.AxesSubplot at 0x1133cb410>"
      ]
     },
     "execution_count": 61,
     "metadata": {},
     "output_type": "execute_result"
    },
    {
     "data": {
      "text/plain": [
       "<matplotlib.figure.Figure at 0x1126265d0>"
      ]
     },
     "metadata": {},
     "output_type": "display_data"
    },
    {
     "data": {
      "image/png": "[encoded data removed]",
      "text/plain": [
       "<matplotlib.figure.Figure at 0x105199390>"
      ]
     },
     "metadata": {},
     "output_type": "display_data"
    }
   ],
   "source": [
    "fig = pl.figure(figsize=(10,10))\n",
    "bins = np.arange(-2, 12, 1)\n",
    "citygrowth.groupby(pd.cut(citygrowth, bins)).agg([count_nonzero]).plot(kind='bar')"
   ]
  },
  {
   "cell_type": "code",
   "execution_count": 47,
   "metadata": {
    "collapsed": false
   },
   "outputs": [
    {
     "data": {
      "text/plain": [
       "732.0650882"
      ]
     },
     "execution_count": 47,
     "metadata": {},
     "output_type": "execute_result"
    }
   ],
   "source": [
    "waterpc.max()"
   ]
  },
  {
   "cell_type": "code",
   "execution_count": 58,
   "metadata": {
    "collapsed": false
   },
   "outputs": [
    {
     "data": {
      "text/plain": [
       "<matplotlib.axes._subplots.AxesSubplot at 0x112295d10>"
      ]
     },
     "execution_count": 58,
     "metadata": {},
     "output_type": "execute_result"
    },
    {
     "data": {
      "text/plain": [
       "<matplotlib.figure.Figure at 0x1101793d0>"
      ]
     },
     "metadata": {},
     "output_type": "display_data"
    },
    {
     "data": {
      "image/png": "[encoded data removed]",
      "text/plain": [
       "<matplotlib.figure.Figure at 0x114073050>"
      ]
     },
     "metadata": {},
     "output_type": "display_data"
    }
   ],
   "source": [
    "#water consumption\n",
    "fig = pl.figure(figsize=(10,10))\n",
    "bins = np.arange(0, 800, 50)\n",
    "waterpc.groupby(pd.cut(waterpc, bins)).agg([count_nonzero]).plot(kind='bar')"
   ]
  },
  {
   "cell_type": "code",
   "execution_count": 66,
   "metadata": {
    "collapsed": false
   },
   "outputs": [
    {
     "data": {
      "text/plain": [
       "<matplotlib.axes._subplots.AxesSubplot at 0x112458e50>"
      ]
     },
     "execution_count": 66,
     "metadata": {},
     "output_type": "execute_result"
    },
    {
     "data": {
      "text/plain": [
       "<matplotlib.figure.Figure at 0x110415990>"
      ]
     },
     "metadata": {},
     "output_type": "display_data"
    },
    {
     "data": {
      "image/png": "[encoded data removed]",
      "text/plain": [
       "<matplotlib.figure.Figure at 0x1104294d0>"
      ]
     },
     "metadata": {},
     "output_type": "display_data"
    }
   ],
   "source": [
    "#electricty consumption\n",
    "fig = pl.figure(figsize=(10,10))\n",
    "bins = np.arange(0, 40, 2)\n",
    "eleccons.groupby(pd.cut(eleccons, bins)).agg([count_nonzero]).plot(kind='bar')"
   ]
  },
  {
   "cell_type": "code",
   "execution_count": 68,
   "metadata": {
    "collapsed": false
   },
   "outputs": [
    {
     "data": {
      "text/plain": [
       "31.0"
      ]
     },
     "execution_count": 68,
     "metadata": {},
     "output_type": "execute_result"
    }
   ],
   "source": [
    "co2.max()\n"
   ]
  },
  {
   "cell_type": "code",
   "execution_count": 69,
   "metadata": {
    "collapsed": false
   },
   "outputs": [
    {
     "data": {
      "text/plain": [
       "<matplotlib.axes._subplots.AxesSubplot at 0x110429550>"
      ]
     },
     "execution_count": 69,
     "metadata": {},
     "output_type": "execute_result"
    },
    {
     "data": {
      "text/plain": [
       "<matplotlib.figure.Figure at 0x118abc690>"
      ]
     },
     "metadata": {},
     "output_type": "display_data"
    },
    {
     "data": {
      "image/png": "[encoded data removed]",
      "text/plain": [
       "<matplotlib.figure.Figure at 0x11061c510>"
      ]
     },
     "metadata": {},
     "output_type": "display_data"
    }
   ],
   "source": [
    "fig = pl.figure(figsize=(10,10))\n",
    "bins = np.arange(0, 40, 2)\n",
    "co2.groupby(pd.cut(co2, bins)).agg([count_nonzero]).plot(kind='bar')\n",
    "#here we see the 31 million tons from DF"
   ]
  },
  {
   "cell_type": "code",
   "execution_count": 74,
   "metadata": {
    "collapsed": false
   },
   "outputs": [
    {
     "data": {
      "text/plain": [
       "<matplotlib.axes._subplots.AxesSubplot at 0x112492510>"
      ]
     },
     "execution_count": 74,
     "metadata": {},
     "output_type": "execute_result"
    },
    {
     "data": {
      "text/plain": [
       "<matplotlib.figure.Figure at 0x11046ba90>"
      ]
     },
     "metadata": {},
     "output_type": "display_data"
    },
    {
     "data": {
      "image/png": "[encoded data removed]",
      "text/plain": [
       "<matplotlib.figure.Figure at 0x1124bb4d0>"
      ]
     },
     "metadata": {},
     "output_type": "display_data"
    }
   ],
   "source": [
    "#adequate disposal of solid waste\n",
    "fig = pl.figure(figsize=(10,10))\n",
    "bins = np.arange(0, 1, .1)\n",
    "trash.groupby(pd.cut(trash, bins)).agg([count_nonzero]).plot(kind='bar')"
   ]
  },
  {
   "cell_type": "markdown",
   "metadata": {},
   "source": [
    "#Scatterplots - population"
   ]
  },
  {
   "cell_type": "code",
   "execution_count": 168,
   "metadata": {
    "collapsed": false
   },
   "outputs": [
    {
     "data": {
      "text/plain": [
       "<matplotlib.legend.Legend at 0x1267021d0>"
      ]
     },
     "execution_count": 168,
     "metadata": {},
     "output_type": "execute_result"
    },
    {
     "data": {
      "image/png": "[encoded data removed]",
      "text/plain": [
       "<matplotlib.figure.Figure at 0x132e4e810>"
      ]
     },
     "metadata": {},
     "output_type": "display_data"
    }
   ],
   "source": [
    "#looking at relationship with population\n",
    "fig = pl.figure(figsize=(20,20))\n",
    "\n",
    "pl.subplot(4,2,1)\n",
    "pl.loglog(pop, citygrowth, '.')\n",
    "pl.xlabel('Population', fontsize=17)\n",
    "pl.ylabel('Growth of city area (in people)', fontsize=12)\n",
    "#pl.legend(loc = 0, fontsize = 10)\n",
    "#ax.setaxlim(0, 2000000)\n",
    "\n",
    "pl.subplot(4,2,2)\n",
    "pl.loglog(pop, popden, '.')\n",
    "pl.xlabel('Population', fontsize=17)\n",
    "pl.ylabel('Population density', fontsize=12)\n",
    "pl.legend(loc = 0, fontsize = 10)\n",
    "\n",
    "pl.subplot(4,2,3)\n",
    "pl.loglog(pop, co2, '.')\n",
    "pl.xlabel('Population', fontsize=17)\n",
    "pl.ylabel('Co2 emissions (million tons CO2 equivalent)', fontsize=12)\n",
    "pl.legend(loc = 0, fontsize = 10)\n",
    "\n",
    "pl.subplot(4,2,4)\n",
    "pl.loglog(pop, eleccons, '.')\n",
    "pl.xlabel('Population', fontsize=17)\n",
    "pl.ylabel('Fuel consumption (m3) per million of GDP', fontsize=17)\n",
    "pl.legend(loc = 0, fontsize = 10)\n",
    "\n",
    "\n",
    "pl.subplot(4,2,5)\n",
    "pl.loglog(pop, waterpc, '.')\n",
    "pl.xlabel('Population', fontsize=17)\n",
    "pl.ylabel('Water consumption per capita in m3', fontsize=12)\n",
    "pl.legend(loc = 0, fontsize = 10)\n",
    "\n",
    "pl.subplot(4,2,6)\n",
    "pl.loglog(pop[trash<1], trash[trash<1], '.')\n",
    "pl.ylim(4e-1,2)\n",
    "pl.xlabel('Population', fontsize=17)\n",
    "pl.ylabel('Adequate residue disposal', fontsize=12)\n",
    "pl.legend(loc = 0, fontsize = 10)"
   ]
  },
  {
   "cell_type": "code",
   "execution_count": 169,
   "metadata": {
    "collapsed": false
   },
   "outputs": [
    {
     "name": "stdout",
     "output_type": "stream",
     "text": [
      "                            OLS Regression Results                            \n",
      "==============================================================================\n",
      "Dep. Variable:                      y   R-squared:                       0.007\n",
      "Model:                            OLS   Adj. R-squared:                 -0.006\n",
      "Method:                 Least Squares   F-statistic:                    0.5190\n",
      "Date:                Tue, 15 Dec 2015   Prob (F-statistic):              0.473\n",
      "Time:                        20:51:03   Log-Likelihood:                -134.38\n",
      "No. Observations:                  78   AIC:                             272.8\n",
      "Df Residuals:                      76   BIC:                             277.5\n",
      "Df Model:                           1                                         \n",
      "Covariance Type:            nonrobust                                         \n",
      "==============================================================================\n",
      "                 coef    std err          t      P>|t|      [95.0% Conf. Int.]\n",
      "------------------------------------------------------------------------------\n",
      "Intercept      0.9204      0.167      5.497      0.000         0.587     1.254\n",
      "x           4.677e-08   6.49e-08      0.720      0.473     -8.25e-08  1.76e-07\n",
      "==============================================================================\n",
      "Omnibus:                      125.116   Durbin-Watson:                   1.839\n",
      "Prob(Omnibus):                  0.000   Jarque-Bera (JB):             4317.300\n",
      "Skew:                           5.376   Prob(JB):                         0.00\n",
      "Kurtosis:                      37.825   Cond. No.                     2.78e+06\n",
      "==============================================================================\n",
      "\n",
      "Warnings:\n",
      "[1] Standard Errors assume that the covariance matrix of the errors is correctly specified.\n",
      "[2] The condition number is large, 2.78e+06. This might indicate that there are\n",
      "strong multicollinearity or other numerical problems.\n"
     ]
    },
    {
     "data": {
      "text/plain": [
       "<matplotlib.text.Text at 0x12f53f8d0>"
      ]
     },
     "execution_count": 169,
     "metadata": {},
     "output_type": "execute_result"
    },
    {
     "data": {
      "image/png": "[encoded data removed]",
      "text/plain": [
       "<matplotlib.figure.Figure at 0x1267020d0>"
      ]
     },
     "metadata": {},
     "output_type": "display_data"
    }
   ],
   "source": [
    "import statsmodels.formula.api as smf\n",
    "from statsmodels.graphics.api import abline_plot \n",
    " \n",
    "#Citygrowth\n",
    "d = {'x': pop, 'y': citygrowth}\n",
    "# Run regression and print summary\n",
    "mod = smf.ols(formula='y ~ x', data = d).fit()\n",
    "print(mod.summary())\n",
    "figure, ax = pl.subplots(figsize=(7,7))\n",
    "y = citygrowth\n",
    "x = pop\n",
    "ax.loglog(x, y, '.')\n",
    "\n",
    "# Plot regression line\n",
    "abline_plot(model_results=mod, color='IndianRed', ax=ax, lw = 3)\n",
    "\n",
    "#ax.set_title('Linear Regression Line')\n",
    "pl.ylabel('Citygrowth', fontsize = 15)\n",
    "pl.xlabel('Population', fontsize = 15)\n"
   ]
  },
  {
   "cell_type": "code",
   "execution_count": 170,
   "metadata": {
    "collapsed": false
   },
   "outputs": [
    {
     "name": "stdout",
     "output_type": "stream",
     "text": [
      "                            OLS Regression Results                            \n",
      "==============================================================================\n",
      "Dep. Variable:                      y   R-squared:                       0.033\n",
      "Model:                            OLS   Adj. R-squared:                  0.020\n",
      "Method:                 Least Squares   F-statistic:                     2.577\n",
      "Date:                Tue, 15 Dec 2015   Prob (F-statistic):              0.113\n",
      "Time:                        20:51:13   Log-Likelihood:                -248.09\n",
      "No. Observations:                  78   AIC:                             500.2\n",
      "Df Residuals:                      76   BIC:                             504.9\n",
      "Df Model:                           1                                         \n",
      "Covariance Type:            nonrobust                                         \n",
      "==============================================================================\n",
      "                 coef    std err          t      P>|t|      [95.0% Conf. Int.]\n",
      "------------------------------------------------------------------------------\n",
      "Intercept      8.0177      0.719     11.145      0.000         6.585     9.451\n",
      "x          -4.478e-07   2.79e-07     -1.605      0.113        -1e-06  1.08e-07\n",
      "==============================================================================\n",
      "Omnibus:                       24.172   Durbin-Watson:                   2.027\n",
      "Prob(Omnibus):                  0.000   Jarque-Bera (JB):               38.710\n",
      "Skew:                           1.226   Prob(JB):                     3.93e-09\n",
      "Kurtosis:                       5.429   Cond. No.                     2.78e+06\n",
      "==============================================================================\n",
      "\n",
      "Warnings:\n",
      "[1] Standard Errors assume that the covariance matrix of the errors is correctly specified.\n",
      "[2] The condition number is large, 2.78e+06. This might indicate that there are\n",
      "strong multicollinearity or other numerical problems.\n"
     ]
    },
    {
     "data": {
      "text/plain": [
       "<matplotlib.text.Text at 0x12c7c8090>"
      ]
     },
     "execution_count": 170,
     "metadata": {},
     "output_type": "execute_result"
    },
    {
     "data": {
      "image/png": "[encoded data removed]",
      "text/plain": [
       "<matplotlib.figure.Figure at 0x12fef2250>"
      ]
     },
     "metadata": {},
     "output_type": "display_data"
    }
   ],
   "source": [
    "d = {'x': pop, 'y': eleccons}\n",
    "# Run regression and print summary\n",
    "mod2 = smf.ols(formula='y ~ x', data = d).fit()\n",
    "print(mod2.summary())\n",
    "figure, ax = pl.subplots(figsize=(7,7))\n",
    "y = eleccons\n",
    "x = pop\n",
    "ax.loglog(x, y, '.')\n",
    "\n",
    "# Plot regression line\n",
    "abline_plot(model_results=mod2, color='IndianRed', ax=ax, lw = 3)\n",
    "\n",
    "#ax.set_title('Linear Regression Line')\n",
    "pl.ylabel('Fuel Consumption', fontsize = 15)\n",
    "pl.xlabel('Population', fontsize = 15)\n"
   ]
  },
  {
   "cell_type": "code",
   "execution_count": 171,
   "metadata": {
    "collapsed": false
   },
   "outputs": [
    {
     "name": "stdout",
     "output_type": "stream",
     "text": [
      "                            OLS Regression Results                            \n",
      "==============================================================================\n",
      "Dep. Variable:                      y   R-squared:                       0.001\n",
      "Model:                            OLS   Adj. R-squared:                 -0.012\n",
      "Method:                 Least Squares   F-statistic:                   0.06930\n",
      "Date:                Tue, 15 Dec 2015   Prob (F-statistic):              0.793\n",
      "Time:                        20:51:22   Log-Likelihood:                -465.89\n",
      "No. Observations:                  78   AIC:                             935.8\n",
      "Df Residuals:                      76   BIC:                             940.5\n",
      "Df Model:                           1                                         \n",
      "Covariance Type:            nonrobust                                         \n",
      "==============================================================================\n",
      "                 coef    std err          t      P>|t|      [95.0% Conf. Int.]\n",
      "------------------------------------------------------------------------------\n",
      "Intercept    105.9838     11.739      9.028      0.000        82.603   129.365\n",
      "x          -1.198e-06   4.55e-06     -0.263      0.793     -1.03e-05  7.87e-06\n",
      "==============================================================================\n",
      "Omnibus:                      100.487   Durbin-Watson:                   1.937\n",
      "Prob(Omnibus):                  0.000   Jarque-Bera (JB):             1829.464\n",
      "Skew:                           3.998   Prob(JB):                         0.00\n",
      "Kurtosis:                      25.338   Cond. No.                     2.78e+06\n",
      "==============================================================================\n",
      "\n",
      "Warnings:\n",
      "[1] Standard Errors assume that the covariance matrix of the errors is correctly specified.\n",
      "[2] The condition number is large, 2.78e+06. This might indicate that there are\n",
      "strong multicollinearity or other numerical problems.\n"
     ]
    },
    {
     "data": {
      "text/plain": [
       "<matplotlib.text.Text at 0x1172d5f10>"
      ]
     },
     "execution_count": 171,
     "metadata": {},
     "output_type": "execute_result"
    },
    {
     "data": {
      "image/png": "[encoded data removed]",
      "text/plain": [
       "<matplotlib.figure.Figure at 0x11cfb2890>"
      ]
     },
     "metadata": {},
     "output_type": "display_data"
    }
   ],
   "source": [
    "d = {'x': pop, 'y': waterpc}\n",
    "# Run regression and print summary\n",
    "mod3 = smf.ols(formula='y ~ x', data = d).fit()\n",
    "print(mod3.summary())\n",
    "figure, ax = pl.subplots(figsize=(7,7))\n",
    "y = waterpc\n",
    "x = pop\n",
    "ax.loglog(x, y, '.')\n",
    "\n",
    "# Plot regression line\n",
    "abline_plot(model_results=mod3, color='IndianRed', ax=ax, lw = 3)\n",
    "\n",
    "#ax.set_title('Linear Regression Line')\n",
    "pl.ylabel('Water consumption', fontsize = 15)\n",
    "pl.xlabel('Population', fontsize = 15)\n"
   ]
  },
  {
   "cell_type": "code",
   "execution_count": 172,
   "metadata": {
    "collapsed": false
   },
   "outputs": [
    {
     "name": "stdout",
     "output_type": "stream",
     "text": [
      "                            OLS Regression Results                            \n",
      "==============================================================================\n",
      "Dep. Variable:                      y   R-squared:                       0.989\n",
      "Model:                            OLS   Adj. R-squared:                  0.988\n",
      "Method:                 Least Squares   F-statistic:                     881.8\n",
      "Date:                Tue, 15 Dec 2015   Prob (F-statistic):           4.38e-11\n",
      "Time:                        20:51:50   Log-Likelihood:                -15.024\n",
      "No. Observations:                  12   AIC:                             34.05\n",
      "Df Residuals:                      10   BIC:                             35.02\n",
      "Df Model:                           1                                         \n",
      "Covariance Type:            nonrobust                                         \n",
      "==============================================================================\n",
      "                 coef    std err          t      P>|t|      [95.0% Conf. Int.]\n",
      "------------------------------------------------------------------------------\n",
      "Intercept      0.5181      0.305      1.697      0.121        -0.162     1.198\n",
      "x           1.444e-06   4.86e-08     29.695      0.000      1.34e-06  1.55e-06\n",
      "==============================================================================\n",
      "Omnibus:                        0.506   Durbin-Watson:                   2.291\n",
      "Prob(Omnibus):                  0.777   Jarque-Bera (JB):                0.345\n",
      "Skew:                          -0.354   Prob(JB):                        0.842\n",
      "Kurtosis:                       2.566   Cond. No.                     7.16e+06\n",
      "==============================================================================\n",
      "\n",
      "Warnings:\n",
      "[1] Standard Errors assume that the covariance matrix of the errors is correctly specified.\n",
      "[2] The condition number is large, 7.16e+06. This might indicate that there are\n",
      "strong multicollinearity or other numerical problems.\n"
     ]
    },
    {
     "name": "stderr",
     "output_type": "stream",
     "text": [
      "/Users/mariaortiz/anaconda/lib/python2.7/site-packages/scipy/stats/stats.py:1233: UserWarning: kurtosistest only valid for n>=20 ... continuing anyway, n=12\n",
      "  int(n))\n"
     ]
    },
    {
     "data": {
      "text/plain": [
       "<matplotlib.text.Text at 0x118fcd3d0>"
      ]
     },
     "execution_count": 172,
     "metadata": {},
     "output_type": "execute_result"
    },
    {
     "data": {
      "image/png": "[encoded data removed]",
      "text/plain": [
       "<matplotlib.figure.Figure at 0x11e106390>"
      ]
     },
     "metadata": {},
     "output_type": "display_data"
    }
   ],
   "source": [
    "d = {'x': pop, 'y': co2}\n",
    "# Run regression and print summary\n",
    "mod4 = smf.ols(formula='y ~ x', data = d).fit()\n",
    "print(mod4.summary())\n",
    "figure, ax = pl.subplots(figsize=(7,7))\n",
    "y = waterpc\n",
    "x = pop\n",
    "ax.loglog(x, y, '.')\n",
    "\n",
    "# Plot regression line\n",
    "abline_plot(model_results=mod4, color='IndianRed', ax=ax, lw = 3)\n",
    "\n",
    "#ax.set_title('Linear Regression Line')\n",
    "pl.ylabel('CO2', fontsize = 15)\n",
    "pl.xlabel('Population', fontsize = 15)\n"
   ]
  },
  {
   "cell_type": "code",
   "execution_count": 18,
   "metadata": {
    "collapsed": false
   },
   "outputs": [
    {
     "data": {
      "text/html": [
       "<div>\n",
       "<table border=\"1\" class=\"dataframe\">\n",
       "  <thead>\n",
       "    <tr style=\"text-align: right;\">\n",
       "      <th></th>\n",
       "      <th>ciudad</th>\n",
       "      <th>mtCO2e</th>\n",
       "      <th>waterpc</th>\n",
       "      <th>goodtrash</th>\n",
       "      <th>fuelpergdp</th>\n",
       "      <th>citygrowth</th>\n",
       "      <th>popdensity</th>\n",
       "      <th>population</th>\n",
       "    </tr>\n",
       "  </thead>\n",
       "  <tbody>\n",
       "    <tr>\n",
       "      <th>0</th>\n",
       "      <td>Aguascalientes</td>\n",
       "      <td>3.33</td>\n",
       "      <td>103.385094</td>\n",
       "      <td>1.000000</td>\n",
       "      <td>4.187821</td>\n",
       "      <td>1.117441</td>\n",
       "      <td>9562.758974</td>\n",
       "      <td>972704.1793</td>\n",
       "    </tr>\n",
       "    <tr>\n",
       "      <th>19</th>\n",
       "      <td>Valle de Mexico</td>\n",
       "      <td>31.00</td>\n",
       "      <td>95.939993</td>\n",
       "      <td>0.866844</td>\n",
       "      <td>2.543544</td>\n",
       "      <td>1.333303</td>\n",
       "      <td>10856.891050</td>\n",
       "      <td>20848057.6900</td>\n",
       "    </tr>\n",
       "    <tr>\n",
       "      <th>21</th>\n",
       "      <td>Celaya</td>\n",
       "      <td>1.61</td>\n",
       "      <td>89.350793</td>\n",
       "      <td>0.857107</td>\n",
       "      <td>4.446439</td>\n",
       "      <td>1.023992</td>\n",
       "      <td>8044.428113</td>\n",
       "      <td>623000.7126</td>\n",
       "    </tr>\n",
       "    <tr>\n",
       "      <th>23</th>\n",
       "      <td>Irapuato</td>\n",
       "      <td>1.11</td>\n",
       "      <td>99.282031</td>\n",
       "      <td>1.000000</td>\n",
       "      <td>7.418034</td>\n",
       "      <td>0.466669</td>\n",
       "      <td>8010.209477</td>\n",
       "      <td>550150.5493</td>\n",
       "    </tr>\n",
       "    <tr>\n",
       "      <th>34</th>\n",
       "      <td>Guadalajara</td>\n",
       "      <td>5.46</td>\n",
       "      <td>32.825935</td>\n",
       "      <td>0.994760</td>\n",
       "      <td>4.401677</td>\n",
       "      <td>1.528756</td>\n",
       "      <td>9128.080683</td>\n",
       "      <td>4614710.4160</td>\n",
       "    </tr>\n",
       "    <tr>\n",
       "      <th>37</th>\n",
       "      <td>Toluca</td>\n",
       "      <td>4.32</td>\n",
       "      <td>55.058674</td>\n",
       "      <td>0.608675</td>\n",
       "      <td>3.035340</td>\n",
       "      <td>0.700000</td>\n",
       "      <td>5499.108157</td>\n",
       "      <td>2074353.4870</td>\n",
       "    </tr>\n",
       "    <tr>\n",
       "      <th>42</th>\n",
       "      <td>Cuernavaca</td>\n",
       "      <td>1.13</td>\n",
       "      <td>203.300064</td>\n",
       "      <td>0.954138</td>\n",
       "      <td>5.248958</td>\n",
       "      <td>0.186698</td>\n",
       "      <td>5300.653295</td>\n",
       "      <td>962252.3736</td>\n",
       "    </tr>\n",
       "    <tr>\n",
       "      <th>45</th>\n",
       "      <td>Oaxaca</td>\n",
       "      <td>1.54</td>\n",
       "      <td>75.119816</td>\n",
       "      <td>0.010631</td>\n",
       "      <td>17.660090</td>\n",
       "      <td>0.537110</td>\n",
       "      <td>4523.197679</td>\n",
       "      <td>635210.7173</td>\n",
       "    </tr>\n",
       "    <tr>\n",
       "      <th>47</th>\n",
       "      <td>Puebla-Tlaxcala</td>\n",
       "      <td>3.55</td>\n",
       "      <td>56.156507</td>\n",
       "      <td>0.993844</td>\n",
       "      <td>3.900561</td>\n",
       "      <td>0.618987</td>\n",
       "      <td>4451.460824</td>\n",
       "      <td>2848670.6410</td>\n",
       "    </tr>\n",
       "    <tr>\n",
       "      <th>56</th>\n",
       "      <td>Culiacan</td>\n",
       "      <td>2.80</td>\n",
       "      <td>178.518826</td>\n",
       "      <td>1.000000</td>\n",
       "      <td>8.417036</td>\n",
       "      <td>0.289686</td>\n",
       "      <td>8130.089028</td>\n",
       "      <td>907938.5251</td>\n",
       "    </tr>\n",
       "    <tr>\n",
       "      <th>72</th>\n",
       "      <td>Xalapa</td>\n",
       "      <td>1.64</td>\n",
       "      <td>89.955324</td>\n",
       "      <td>0.981510</td>\n",
       "      <td>10.622021</td>\n",
       "      <td>0.894635</td>\n",
       "      <td>8408.414280</td>\n",
       "      <td>694709.1420</td>\n",
       "    </tr>\n",
       "    <tr>\n",
       "      <th>73</th>\n",
       "      <td>Poza Rica</td>\n",
       "      <td>1.09</td>\n",
       "      <td>72.236033</td>\n",
       "      <td>0.750059</td>\n",
       "      <td>5.019656</td>\n",
       "      <td>0.593212</td>\n",
       "      <td>8416.948041</td>\n",
       "      <td>526964.0707</td>\n",
       "    </tr>\n",
       "  </tbody>\n",
       "</table>\n",
       "</div>"
      ],
      "text/plain": [
       "             ciudad  mtCO2e     waterpc  goodtrash  fuelpergdp  citygrowth  \\\n",
       "0    Aguascalientes    3.33  103.385094   1.000000    4.187821    1.117441   \n",
       "19  Valle de Mexico   31.00   95.939993   0.866844    2.543544    1.333303   \n",
       "21           Celaya    1.61   89.350793   0.857107    4.446439    1.023992   \n",
       "23         Irapuato    1.11   99.282031   1.000000    7.418034    0.466669   \n",
       "34      Guadalajara    5.46   32.825935   0.994760    4.401677    1.528756   \n",
       "37           Toluca    4.32   55.058674   0.608675    3.035340    0.700000   \n",
       "42       Cuernavaca    1.13  203.300064   0.954138    5.248958    0.186698   \n",
       "45           Oaxaca    1.54   75.119816   0.010631   17.660090    0.537110   \n",
       "47  Puebla-Tlaxcala    3.55   56.156507   0.993844    3.900561    0.618987   \n",
       "56         Culiacan    2.80  178.518826   1.000000    8.417036    0.289686   \n",
       "72           Xalapa    1.64   89.955324   0.981510   10.622021    0.894635   \n",
       "73        Poza Rica    1.09   72.236033   0.750059    5.019656    0.593212   \n",
       "\n",
       "      popdensity     population  \n",
       "0    9562.758974    972704.1793  \n",
       "19  10856.891050  20848057.6900  \n",
       "21   8044.428113    623000.7126  \n",
       "23   8010.209477    550150.5493  \n",
       "34   9128.080683   4614710.4160  \n",
       "37   5499.108157   2074353.4870  \n",
       "42   5300.653295    962252.3736  \n",
       "45   4523.197679    635210.7173  \n",
       "47   4451.460824   2848670.6410  \n",
       "56   8130.089028    907938.5251  \n",
       "72   8408.414280    694709.1420  \n",
       "73   8416.948041    526964.0707  "
      ]
     },
     "execution_count": 18,
     "metadata": {},
     "output_type": "execute_result"
    }
   ],
   "source": [
    "#the column for mtCO2e has some nan values, so we remove them\n",
    "#creating an index that shows where nan values are \n",
    "index = np.isnan(imcoenv.mtCO2e)\n",
    "#resaving df with rows for where we have mtCO2e data \n",
    "final = imcoenv[index == 0]\n",
    "final"
   ]
  },
  {
   "cell_type": "markdown",
   "metadata": {},
   "source": [
    "#Cluster Analysis"
   ]
  },
  {
   "cell_type": "code",
   "execution_count": 19,
   "metadata": {
    "collapsed": true
   },
   "outputs": [],
   "source": [
    "import scipy\n",
    "import sklearn.cluster\n",
    "#from sklearn import mixture\n",
    "#from PIL import Image\n",
    "from scipy.misc import imread\n",
    "from scipy.cluster.vq import kmeans2, vq, whiten, kmeans"
   ]
  },
  {
   "cell_type": "code",
   "execution_count": 145,
   "metadata": {
    "collapsed": false
   },
   "outputs": [
    {
     "data": {
      "text/html": [
       "<div>\n",
       "<table border=\"1\" class=\"dataframe\">\n",
       "  <thead>\n",
       "    <tr style=\"text-align: right;\">\n",
       "      <th></th>\n",
       "      <th>mtCO2e</th>\n",
       "      <th>waterpc</th>\n",
       "      <th>goodtrash</th>\n",
       "      <th>fuelpergdp</th>\n",
       "      <th>citygrowth</th>\n",
       "      <th>popdensity</th>\n",
       "      <th>population</th>\n",
       "    </tr>\n",
       "    <tr>\n",
       "      <th>ciudad</th>\n",
       "      <th></th>\n",
       "      <th></th>\n",
       "      <th></th>\n",
       "      <th></th>\n",
       "      <th></th>\n",
       "      <th></th>\n",
       "      <th></th>\n",
       "    </tr>\n",
       "  </thead>\n",
       "  <tbody>\n",
       "    <tr>\n",
       "      <th>Aguascalientes</th>\n",
       "      <td>3.33</td>\n",
       "      <td>103.385094</td>\n",
       "      <td>1.000000</td>\n",
       "      <td>4.187821</td>\n",
       "      <td>1.117441</td>\n",
       "      <td>9562.758974</td>\n",
       "      <td>972704.1793</td>\n",
       "    </tr>\n",
       "    <tr>\n",
       "      <th>Valle de Mexico</th>\n",
       "      <td>31.00</td>\n",
       "      <td>95.939993</td>\n",
       "      <td>0.866844</td>\n",
       "      <td>2.543544</td>\n",
       "      <td>1.333303</td>\n",
       "      <td>10856.891050</td>\n",
       "      <td>20848057.6900</td>\n",
       "    </tr>\n",
       "    <tr>\n",
       "      <th>Celaya</th>\n",
       "      <td>1.61</td>\n",
       "      <td>89.350793</td>\n",
       "      <td>0.857107</td>\n",
       "      <td>4.446439</td>\n",
       "      <td>1.023992</td>\n",
       "      <td>8044.428113</td>\n",
       "      <td>623000.7126</td>\n",
       "    </tr>\n",
       "    <tr>\n",
       "      <th>Irapuato</th>\n",
       "      <td>1.11</td>\n",
       "      <td>99.282031</td>\n",
       "      <td>1.000000</td>\n",
       "      <td>7.418034</td>\n",
       "      <td>0.466669</td>\n",
       "      <td>8010.209477</td>\n",
       "      <td>550150.5493</td>\n",
       "    </tr>\n",
       "    <tr>\n",
       "      <th>Guadalajara</th>\n",
       "      <td>5.46</td>\n",
       "      <td>32.825935</td>\n",
       "      <td>0.994760</td>\n",
       "      <td>4.401677</td>\n",
       "      <td>1.528756</td>\n",
       "      <td>9128.080683</td>\n",
       "      <td>4614710.4160</td>\n",
       "    </tr>\n",
       "    <tr>\n",
       "      <th>Toluca</th>\n",
       "      <td>4.32</td>\n",
       "      <td>55.058674</td>\n",
       "      <td>0.608675</td>\n",
       "      <td>3.035340</td>\n",
       "      <td>0.700000</td>\n",
       "      <td>5499.108157</td>\n",
       "      <td>2074353.4870</td>\n",
       "    </tr>\n",
       "    <tr>\n",
       "      <th>Cuernavaca</th>\n",
       "      <td>1.13</td>\n",
       "      <td>203.300064</td>\n",
       "      <td>0.954138</td>\n",
       "      <td>5.248958</td>\n",
       "      <td>0.186698</td>\n",
       "      <td>5300.653295</td>\n",
       "      <td>962252.3736</td>\n",
       "    </tr>\n",
       "    <tr>\n",
       "      <th>Oaxaca</th>\n",
       "      <td>1.54</td>\n",
       "      <td>75.119816</td>\n",
       "      <td>0.010631</td>\n",
       "      <td>17.660090</td>\n",
       "      <td>0.537110</td>\n",
       "      <td>4523.197679</td>\n",
       "      <td>635210.7173</td>\n",
       "    </tr>\n",
       "    <tr>\n",
       "      <th>Puebla-Tlaxcala</th>\n",
       "      <td>3.55</td>\n",
       "      <td>56.156507</td>\n",
       "      <td>0.993844</td>\n",
       "      <td>3.900561</td>\n",
       "      <td>0.618987</td>\n",
       "      <td>4451.460824</td>\n",
       "      <td>2848670.6410</td>\n",
       "    </tr>\n",
       "    <tr>\n",
       "      <th>Culiacan</th>\n",
       "      <td>2.80</td>\n",
       "      <td>178.518826</td>\n",
       "      <td>1.000000</td>\n",
       "      <td>8.417036</td>\n",
       "      <td>0.289686</td>\n",
       "      <td>8130.089028</td>\n",
       "      <td>907938.5251</td>\n",
       "    </tr>\n",
       "    <tr>\n",
       "      <th>Xalapa</th>\n",
       "      <td>1.64</td>\n",
       "      <td>89.955324</td>\n",
       "      <td>0.981510</td>\n",
       "      <td>10.622021</td>\n",
       "      <td>0.894635</td>\n",
       "      <td>8408.414280</td>\n",
       "      <td>694709.1420</td>\n",
       "    </tr>\n",
       "    <tr>\n",
       "      <th>Poza Rica</th>\n",
       "      <td>1.09</td>\n",
       "      <td>72.236033</td>\n",
       "      <td>0.750059</td>\n",
       "      <td>5.019656</td>\n",
       "      <td>0.593212</td>\n",
       "      <td>8416.948041</td>\n",
       "      <td>526964.0707</td>\n",
       "    </tr>\n",
       "  </tbody>\n",
       "</table>\n",
       "</div>"
      ],
      "text/plain": [
       "                 mtCO2e     waterpc  goodtrash  fuelpergdp  citygrowth  \\\n",
       "ciudad                                                                   \n",
       "Aguascalientes     3.33  103.385094   1.000000    4.187821    1.117441   \n",
       "Valle de Mexico   31.00   95.939993   0.866844    2.543544    1.333303   \n",
       "Celaya             1.61   89.350793   0.857107    4.446439    1.023992   \n",
       "Irapuato           1.11   99.282031   1.000000    7.418034    0.466669   \n",
       "Guadalajara        5.46   32.825935   0.994760    4.401677    1.528756   \n",
       "Toluca             4.32   55.058674   0.608675    3.035340    0.700000   \n",
       "Cuernavaca         1.13  203.300064   0.954138    5.248958    0.186698   \n",
       "Oaxaca             1.54   75.119816   0.010631   17.660090    0.537110   \n",
       "Puebla-Tlaxcala    3.55   56.156507   0.993844    3.900561    0.618987   \n",
       "Culiacan           2.80  178.518826   1.000000    8.417036    0.289686   \n",
       "Xalapa             1.64   89.955324   0.981510   10.622021    0.894635   \n",
       "Poza Rica          1.09   72.236033   0.750059    5.019656    0.593212   \n",
       "\n",
       "                   popdensity     population  \n",
       "ciudad                                        \n",
       "Aguascalientes    9562.758974    972704.1793  \n",
       "Valle de Mexico  10856.891050  20848057.6900  \n",
       "Celaya            8044.428113    623000.7126  \n",
       "Irapuato          8010.209477    550150.5493  \n",
       "Guadalajara       9128.080683   4614710.4160  \n",
       "Toluca            5499.108157   2074353.4870  \n",
       "Cuernavaca        5300.653295    962252.3736  \n",
       "Oaxaca            4523.197679    635210.7173  \n",
       "Puebla-Tlaxcala   4451.460824   2848670.6410  \n",
       "Culiacan          8130.089028    907938.5251  \n",
       "Xalapa            8408.414280    694709.1420  \n",
       "Poza Rica         8416.948041    526964.0707  "
      ]
     },
     "execution_count": 145,
     "metadata": {},
     "output_type": "execute_result"
    }
   ],
   "source": [
    "final2 = final.set_index(['ciudad'])\n",
    "cityname = final2.index.values\n",
    "final2"
   ]
  },
  {
   "cell_type": "code",
   "execution_count": 226,
   "metadata": {
    "collapsed": false
   },
   "outputs": [
    {
     "data": {
      "text/plain": [
       "1.09"
      ]
     },
     "execution_count": 226,
     "metadata": {},
     "output_type": "execute_result"
    }
   ],
   "source": [
    "#viewing cell\n",
    "final2['mtCO2e'].min()"
   ]
  },
  {
   "cell_type": "code",
   "execution_count": 230,
   "metadata": {
    "collapsed": false
   },
   "outputs": [
    {
     "data": {
      "text/plain": [
       "(12, 6)"
      ]
     },
     "execution_count": 230,
     "metadata": {},
     "output_type": "execute_result"
    }
   ],
   "source": [
    "finalcluster = final2.values\n",
    "(finalcluster).shape\n",
    "#here we tak away population as it is has too strong of an influence on the clusters and was pushing them in one direction\n",
    "(finalcluster[:,:6]).shape"
   ]
  },
  {
   "cell_type": "code",
   "execution_count": 137,
   "metadata": {
    "collapsed": false
   },
   "outputs": [
    {
     "data": {
      "text/plain": [
       "array([ 1.,  1.,  1.,  1.,  1.,  1.])"
      ]
     },
     "execution_count": 137,
     "metadata": {},
     "output_type": "execute_result"
    }
   ],
   "source": [
    "normcluster = finalcluster[:,:6] - finalcluster[:,:6].mean(axis=0).T\n",
    "w = whiten(normcluster)\n",
    "w.std(axis=0)"
   ]
  },
  {
   "cell_type": "code",
   "execution_count": 138,
   "metadata": {
    "collapsed": false
   },
   "outputs": [
    {
     "name": "stdout",
     "output_type": "stream",
     "text": [
      "2 clusters labels\n",
      "[1 1 1 1 1 0 0 1 0 1 1 1]\n"
     ]
    }
   ],
   "source": [
    "#clustering with k means, 2 clusters\n",
    "final_2ck = scipy.cluster.vq.kmeans(w, 2, iter=1)\n",
    "kmlabels2, kmdistances2 = vq(w, final_2ck[0])\n",
    "print (\"2 clusters labels\")\n",
    "print (kmlabels2)"
   ]
  },
  {
   "cell_type": "code",
   "execution_count": 139,
   "metadata": {
    "collapsed": false
   },
   "outputs": [
    {
     "data": {
      "text/plain": [
       "array([  3.33000000e+00,   1.03385094e+02,   1.00000000e+00,\n",
       "         4.18782052e+00,   1.11744126e+00,   9.56275897e+03,\n",
       "         9.72704179e+05])"
      ]
     },
     "execution_count": 139,
     "metadata": {},
     "output_type": "execute_result"
    }
   ],
   "source": [
    "finalcluster[0]"
   ]
  },
  {
   "cell_type": "code",
   "execution_count": 140,
   "metadata": {
    "collapsed": false
   },
   "outputs": [
    {
     "name": "stdout",
     "output_type": "stream",
     "text": [
      "[False False False False False  True  True False  True False False False]\n",
      "(3, 7)\n",
      "(9, 7)\n"
     ]
    },
    {
     "data": {
      "text/plain": [
       "<matplotlib.figure.Figure at 0x12882d890>"
      ]
     },
     "metadata": {},
     "output_type": "display_data"
    }
   ],
   "source": [
    "fig = pl.figure(figsize=(20,20))\n",
    "\n",
    "print (kmlabels2 == 0)\n",
    "print ((finalcluster[kmlabels2 == 0]).shape)\n",
    "print ((finalcluster[kmlabels2 == 1]).shape)"
   ]
  },
  {
   "cell_type": "code",
   "execution_count": 216,
   "metadata": {
    "collapsed": false
   },
   "outputs": [
    {
     "name": "stdout",
     "output_type": "stream",
     "text": [
      "cluster 1:  ['Toluca' 'Cuernavaca' 'Puebla-Tlaxcala']\n",
      "cluster 2:  ['Aguascalientes' 'Valle de Mexico' 'Celaya' 'Irapuato' 'Guadalajara'\n",
      " 'Oaxaca' 'Culiacan' 'Xalapa' 'Poza Rica']\n"
     ]
    },
    {
     "data": {
      "image/png": "[encoded data removed]",
      "text/plain": [
       "<matplotlib.figure.Figure at 0x138123250>"
      ]
     },
     "metadata": {},
     "output_type": "display_data"
    }
   ],
   "source": [
    "fig = pl.figure(figsize=(15,15))\n",
    "\n",
    "pl.subplot(2,2,1)\n",
    "for l in range(2):\n",
    "    for j in range(len(w[kmlabels2 == l])):\n",
    "        pl.plot(w[kmlabels2 == l][j], '.', ms = 30, \n",
    "                color = kelly_colors_hex[l], alpha = 0.2)\n",
    "pl.xlabel('Cities', fontsize = 15)\n",
    "pl.ylabel('Variables: water, electricty, trash, CO2, growth, popdensity', fontsize = 13)\n",
    "ax.set_title('test', fontsize = 12)\n",
    "print (\"cluster 1: \", cityname[kmlabels2 == 0])\n",
    "print (\"cluster 2: \", cityname[kmlabels2 == 1])"
   ]
  },
  {
   "cell_type": "code",
   "execution_count": 153,
   "metadata": {
    "collapsed": false
   },
   "outputs": [
    {
     "name": "stdout",
     "output_type": "stream",
     "text": [
      "3 clusters labels\n",
      "[1 1 1 1 1 1 1 0 1 1 1 1]\n"
     ]
    }
   ],
   "source": [
    "#clustering with k means, 3 clusters\n",
    "final_3ck = scipy.cluster.vq.kmeans(w, 3, iter=1)\n",
    "kmlabels3, kmdistances3 = vq(w, final_3ck[0])\n",
    "print (\"3 clusters labels\")\n",
    "print (kmlabels3)"
   ]
  },
  {
   "cell_type": "code",
   "execution_count": 156,
   "metadata": {
    "collapsed": false
   },
   "outputs": [
    {
     "name": "stdout",
     "output_type": "stream",
     "text": [
      "[False False False False  True  True False False  True False False False]\n",
      "(3, 7)\n",
      "(1, 7)\n"
     ]
    },
    {
     "data": {
      "text/plain": [
       "<matplotlib.figure.Figure at 0x12882d390>"
      ]
     },
     "metadata": {},
     "output_type": "display_data"
    }
   ],
   "source": [
    "fig = pl.figure(figsize=(20,20))\n",
    "\n",
    "print (kmlabels3 == 0)\n",
    "print ((finalcluster[kmlabels3 == 0]).shape)\n",
    "print ((finalcluster[kmlabels3 == 1]).shape)"
   ]
  },
  {
   "cell_type": "code",
   "execution_count": 155,
   "metadata": {
    "collapsed": false
   },
   "outputs": [],
   "source": [
    "#clustering with k means, 3 clusters\n",
    "#final_3ck = scipy.cluster.vq.kmeans(finalcluster, 3, iter=1)\n",
    "#kmlabels3, kmdistances3 = vq(finalcluster, final_3ck[0])\n",
    "#print (\"3 clusters labels\")\n",
    "#print (kmlabels3)"
   ]
  },
  {
   "cell_type": "code",
   "execution_count": 218,
   "metadata": {
    "collapsed": false
   },
   "outputs": [
    {
     "name": "stdout",
     "output_type": "stream",
     "text": [
      "cluster 1:  ['Guadalajara' 'Toluca' 'Puebla-Tlaxcala']\n",
      "cluster 2:  ['Valle de Mexico']\n",
      "cluster 3:  ['Aguascalientes' 'Celaya' 'Irapuato' 'Cuernavaca' 'Oaxaca' 'Culiacan'\n",
      " 'Xalapa' 'Poza Rica']\n"
     ]
    },
    {
     "data": {
      "image/png": "[encoded data removed]",
      "text/plain": [
       "<matplotlib.figure.Figure at 0x138379450>"
      ]
     },
     "metadata": {},
     "output_type": "display_data"
    }
   ],
   "source": [
    "fig = pl.figure(figsize=(15,15))\n",
    "\n",
    "pl.subplot(2,2,1)\n",
    "for l in range(2):\n",
    "    for j in range(len(w[kmlabels3 == l])):\n",
    "        pl.plot(w[kmlabels3 == l][j], '.', ms = 30, \n",
    "                color = kelly_colors_hex[l], alpha = 0.2)\n",
    "#pl.plot(finalcluster[0][l].T, color = kelly_colors_hex[l], linewidth = 3) #, label = 'KMeans with 2 Clusters')\n",
    "pl.xlabel('Cities', fontsize = 15)\n",
    "pl.ylabel('Variables: water, electricty, trash, CO2, growth, popdensity', fontsize = 13)\n",
    "#pl.suptitle('City Comparison')\n",
    "print (\"cluster 1: \", cityname[kmlabels3 == 0])\n",
    "print (\"cluster 2: \", cityname[kmlabels3 == 1])\n",
    "print (\"cluster 3: \", cityname[kmlabels3 == 2])"
   ]
  },
  {
   "cell_type": "code",
   "execution_count": 174,
   "metadata": {
    "collapsed": false
   },
   "outputs": [],
   "source": [
    "#finalcluster"
   ]
  },
  {
   "cell_type": "code",
   "execution_count": 179,
   "metadata": {
    "collapsed": true
   },
   "outputs": [],
   "source": [
    "from sklearn.cluster import AgglomerativeClustering"
   ]
  },
  {
   "cell_type": "markdown",
   "metadata": {},
   "source": [
    "#Agglomerative Clustering"
   ]
  },
  {
   "cell_type": "code",
   "execution_count": 192,
   "metadata": {
    "collapsed": false
   },
   "outputs": [],
   "source": [
    "#Agglomerative clustering (2 clusters)\n",
    "agc2 = AgglomerativeClustering(n_clusters=2,  compute_full_tree=True).fit(w)\n",
    "labelsag2 = agc2.labels_"
   ]
  },
  {
   "cell_type": "code",
   "execution_count": 220,
   "metadata": {
    "collapsed": false
   },
   "outputs": [
    {
     "name": "stdout",
     "output_type": "stream",
     "text": [
      "cluster 1:  ['Aguascalientes' 'Valle de Mexico' 'Celaya' 'Irapuato' 'Guadalajara'\n",
      " 'Toluca' 'Cuernavaca' 'Puebla-Tlaxcala' 'Culiacan' 'Xalapa' 'Poza Rica']\n",
      "cluster 2:  ['Oaxaca']\n"
     ]
    },
    {
     "data": {
      "image/png": "[encoded data removed]",
      "text/plain": [
       "<matplotlib.figure.Figure at 0x137ef7b10>"
      ]
     },
     "metadata": {},
     "output_type": "display_data"
    }
   ],
   "source": [
    "fig = pl.figure(figsize=(15,15))\n",
    "\n",
    "pl.subplot(2,2,1)\n",
    "for l in range(2):\n",
    "    for j in range(len(w[labelsag2 == l])):\n",
    "        pl.plot(w[labelsag2 == l][j], '.', ms = 30, \n",
    "                color = kelly_colors_hex[l], alpha = 0.2)\n",
    "#pl.plot(finalcluster[0][l].T, color = kelly_colors_hex[l], linewidth = 3) #, label = 'KMeans with 2 Clusters')\n",
    "pl.xlabel('Cities', fontsize = 15)\n",
    "pl.ylabel('Variables: water, electricty, trash, CO2, growth, popdensity', fontsize = 13)\n",
    "#pl.suptitle('City Comparison')\n",
    "print (\"cluster 1: \", cityname[labelsag2 == 0])\n",
    "print (\"cluster 2: \", cityname[labelsag2 == 1])"
   ]
  },
  {
   "cell_type": "code",
   "execution_count": 227,
   "metadata": {
    "collapsed": true
   },
   "outputs": [],
   "source": [
    "import plotly.plotly as py\n",
    "from plotly.graph_objs import *"
   ]
  },
  {
   "cell_type": "code",
   "execution_count": 228,
   "metadata": {
    "collapsed": false
   },
   "outputs": [
    {
     "data": {
      "text/html": [
       "<iframe id=\"igraph\" scrolling=\"no\" style=\"border:none;\"seamless=\"seamless\" src=\"https://plot.ly/~maryooh/36.embed\" height=\"525px\" width=\"100%\"></iframe>"
      ],
      "text/plain": [
       "<plotly.tools.PlotlyDisplay object>"
      ]
     },
     "execution_count": 228,
     "metadata": {},
     "output_type": "execute_result"
    }
   ],
   "source": [
    "py.iplot_mpl(fig)\n",
    "#purple dot at the top is 'line 11'..."
   ]
  },
  {
   "cell_type": "code",
   "execution_count": 238,
   "metadata": {
    "collapsed": false
   },
   "outputs": [
    {
     "name": "stdout",
     "output_type": "stream",
     "text": [
      "cluster 1:  ['Aguascalientes' 'Valle de Mexico' 'Celaya' 'Irapuato' 'Guadalajara'\n",
      " 'Toluca' 'Cuernavaca' 'Puebla-Tlaxcala' 'Culiacan' 'Xalapa' 'Poza Rica']\n",
      "cluster 2:  ['Oaxaca']\n",
      "cluster 3:  ['Valle de Mexico']\n"
     ]
    },
    {
     "data": {
      "image/png": "[encoded data removed]",
      "text/plain": [
       "<matplotlib.figure.Figure at 0x138b9d710>"
      ]
     },
     "metadata": {},
     "output_type": "display_data"
    }
   ],
   "source": [
    "agc3 = AgglomerativeClustering(n_clusters=3,  compute_full_tree=True).fit(w)\n",
    "labelsag3 = agc3.labels_\n",
    "\n",
    "fig = pl.figure(figsize=(15,15))\n",
    "\n",
    "pl.subplot(2,2,1)\n",
    "for l in range(2):\n",
    "    for j in range(len(w[labelsag3 == l])):\n",
    "        pl.plot(w[labelsag3 == l][j], '.', ms = 30, \n",
    "                color = kelly_colors_hex[l], alpha = 0.2)\n",
    "#pl.plot(finalcluster[0][l].T, color = kelly_colors_hex[l], linewidth = 3) #, label = 'KMeans with 2 Clusters')\n",
    "pl.xlabel('Cities', fontsize = 15)\n",
    "pl.ylabel('Variables: water, electricty, trash, CO2, growth, popdensity', fontsize = 13)\n",
    "#pl.suptitle('City Comparison')\n",
    "print (\"cluster 1: \", cityname[labelsag2 == 0])\n",
    "print (\"cluster 2: \", cityname[labelsag2 == 1])\n",
    "print (\"cluster 3: \", cityname[labelsag3 == 2])"
   ]
  },
  {
   "cell_type": "code",
   "execution_count": null,
   "metadata": {
    "collapsed": true
   },
   "outputs": [],
   "source": []
  }
 ],
 "metadata": {
  "kernelspec": {
   "display_name": "Python 2",
   "language": "python",
   "name": "python2"
  },
  "language_info": {
   "codemirror_mode": {
    "name": "ipython",
    "version": 2
   },
   "file_extension": ".py",
   "mimetype": "text/x-python",
   "name": "python",
   "nbconvert_exporter": "python",
   "pygments_lexer": "ipython2",
   "version": "2.7.10"
  }
 },
 "nbformat": 4,
 "nbformat_minor": 0
}
